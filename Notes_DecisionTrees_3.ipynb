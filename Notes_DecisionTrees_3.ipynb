{
  "nbformat": 4,
  "nbformat_minor": 0,
  "metadata": {
    "colab": {
      "provenance": [],
      "toc_visible": true
    },
    "kernelspec": {
      "name": "python3",
      "display_name": "Python 3"
    },
    "language_info": {
      "name": "python"
    }
  },
  "cells": [
    {
      "cell_type": "markdown",
      "source": [
        "## Content\n",
        "\n",
        "- Runtime complexity\n",
        "\n",
        "- Multiclass classification \n",
        "\n",
        "- Using feature twice for split\n",
        "\n",
        "- Feature importance\n",
        "\n",
        "- Regression using Decision Tree\n",
        "\n",
        "- Greedy Approximation of DT\n",
        "\n",
        "- Summary\n",
        "\n",
        "***\n",
        "\n",
        "- Ensemble Models\n",
        "    - Types of Ensembles\n",
        "\n",
        "- Bagging\n",
        "\n"
      ],
      "metadata": {
        "id": "Xeymej4y5JzH"
      }
    },
    {
      "cell_type": "markdown",
      "metadata": {
        "id": "sdCwgPjQ4ur3"
      },
      "source": [
        "# **Train/Run time complexity**"
      ]
    },
    {
      "cell_type": "markdown",
      "metadata": {
        "id": "pOeWK7zb8JK3"
      },
      "source": [
        "#### Question: What do you think will be run time and space complexity will be ? "
      ]
    },
    {
      "cell_type": "markdown",
      "metadata": {
        "id": "R4uADt855zMo"
      },
      "source": [
        "Let \n",
        "- n be the number of data points \n",
        "- m be the number of nodes and \n",
        "- d be the depth of the tree \n",
        "\n",
        "Then, \n",
        "* **Train time complexity** is **$O(nlog(n)*d)$**\n",
        "    - where nlog(n) is the time taken to sort numerical features\n",
        "    - multiplied by d, as you have to calculate split for d features\n",
        "\n",
        "* The **Run Time complexity** of the tree of depth d is O(depth) \n",
        "    - as we only have to evaluate at max d condtions\n",
        "\n",
        "* The **Space complexity** of the tree is O(m)\n",
        "    - we only have to store **m if else condtions**\n",
        "\n",
        "Here,  depth is the function of number of nodes i.e log(m)   \n",
        " \n",
        "If $d_{best}$ is computated using cross validation the decision tree will be very efficient at runtime.\n",
        "\n"
      ]
    },
    {
      "cell_type": "markdown",
      "metadata": {
        "id": "MEd1KnQfB0CM"
      },
      "source": [
        "\n",
        "<img src='https://drive.google.com/uc?id=1lgpPR9T2IxGxWsmUH9D8hO-5NTQtJFqE'>"
      ]
    },
    {
      "cell_type": "markdown",
      "metadata": {
        "id": "Hel_aeClPzzf"
      },
      "source": [
        "## Multi class classification"
      ]
    },
    {
      "cell_type": "markdown",
      "metadata": {
        "id": "VFh6NmauF8_a"
      },
      "source": [
        "#### How will DT work for multi class classification?"
      ]
    },
    {
      "cell_type": "markdown",
      "metadata": {
        "id": "H1s9aViHQFlp"
      },
      "source": [
        "Whether it is binary or multiclass, DT works the same.\n",
        "\n",
        "We just need to calculate the Entropy or Gini Impurity.\n",
        "\n",
        "However, there is a catch\n",
        "* at the leaf node if we have more classes we take the majority class.\n"
      ]
    },
    {
      "cell_type": "markdown",
      "metadata": {
        "id": "Wot1LN-RWnrs"
      },
      "source": [
        "\n",
        "<img src='https://drive.google.com/uc?id=1dDWifTRTzncApzTa-M6ExppyCJj5m6-Q'>\n"
      ]
    },
    {
      "cell_type": "markdown",
      "metadata": {
        "id": "TtLFTvjaHcn3"
      },
      "source": [
        "# **Interpretibility**"
      ]
    },
    {
      "cell_type": "markdown",
      "metadata": {
        "id": "UwpyJWzwIKxT"
      },
      "source": [
        "Decision Trees are hyper interpretable\n",
        "- as we can read them as if else condition\n",
        "- can be understood by non expert"
      ]
    },
    {
      "cell_type": "markdown",
      "metadata": {
        "id": "_crMG3fRIFdV"
      },
      "source": [
        "\n",
        "<img src='https://drive.google.com/uc?id=1S8XxE09aiBO_RK_Bte8jKIGjr81An7Ef'>\n",
        "\n"
      ]
    },
    {
      "cell_type": "markdown",
      "metadata": {
        "id": "jZdovsTcIYMZ"
      },
      "source": [
        "## Using feature twice for split"
      ]
    },
    {
      "cell_type": "markdown",
      "metadata": {
        "id": "5yYH04q9Ii3Q"
      },
      "source": [
        "#### Question: Can we use a feature twice for splitting?"
      ]
    },
    {
      "cell_type": "markdown",
      "metadata": {
        "id": "afSNZG1YIWPM"
      },
      "source": [
        "\n",
        "\n",
        "Imagine we split the root node using feature $f_1$ \n",
        "\n",
        "**Can we use this feature again to split the child node ?**"
      ]
    },
    {
      "cell_type": "markdown",
      "metadata": {
        "id": "t1AWD3QLIh6r"
      },
      "source": [
        "\n",
        "<img src='https://drive.google.com/uc?id=1Ve7CZ5Pb8Tufhb98AhmEg5L9rVHgm1-z'>\n",
        "\n"
      ]
    },
    {
      "cell_type": "markdown",
      "metadata": {
        "id": "iBRg2JbUJj-N"
      },
      "source": [
        "Let's see for both categorical as well as numerical features\n",
        "\n",
        "Let's say we have \n",
        "- 100 +ve points\n",
        "- 100 -ve points at root node.\n",
        "\n",
        "### Categorical feature\n",
        "\n",
        "We used Gender (categorical) to split the data\n",
        "\n",
        "We got two child nodes\n",
        "- Male node:\n",
        "    - 70 +ve\n",
        "    - 30 -ve\n",
        "\n",
        "- Female node:\n",
        "    - 30 +ve\n",
        "    - 70 -ve\n",
        "\n",
        "**Can we again use Gender to split Male node?**\n",
        "\n",
        "No. \n",
        "Even if we use, we only have Male category data in current node.\n",
        "- there will be no information gain i.e. info gain = 0\n",
        "\n",
        "\n",
        "\n",
        "\n"
      ]
    },
    {
      "cell_type": "markdown",
      "metadata": {
        "id": "I6dIIMNZKC96"
      },
      "source": [
        "\n",
        "<img src='https://drive.google.com/uc?id=1g_zrbs47bI4XqaQ4lJulVnal-B2mzfhn'>\n",
        "\n"
      ]
    },
    {
      "cell_type": "markdown",
      "metadata": {
        "id": "IH_Bng1AVB7s"
      },
      "source": [
        "But, there's an exception\n",
        "- A single categorical feature can be used more than once in different branches of tree"
      ]
    },
    {
      "cell_type": "markdown",
      "metadata": {
        "id": "IaKPSvDnVz9W"
      },
      "source": [
        "\n",
        "<img src='https://drive.google.com/uc?id=16L9ZMNk4hz9eMrafNrPxcL4w-zLfNGrt'>\n",
        "\n"
      ]
    },
    {
      "cell_type": "markdown",
      "metadata": {
        "id": "FRa04OCyMCE0"
      },
      "source": [
        "### Numerical feature\n",
        "\n",
        "Now, let's say we are splitting the root node numerical feature i.e. Years of Experience.\n",
        "\n",
        "First, we found out IG for each threshold and YOE of 12 yrs was giving the best IG.\n",
        "- We split the node with $YOE ≤ 12$\n",
        "\n",
        "#### Question: Can we again use numerical feature for split?\n",
        "\n",
        "Yes. It is possible that same feature for different threshold may give best IG among all features at child node.\n",
        "\n"
      ]
    },
    {
      "cell_type": "markdown",
      "metadata": {
        "id": "ddj37Pj8Nrx1"
      },
      "source": [
        "\n",
        "<img src='https://drive.google.com/uc?id=10CQM-YGajNRnSIMlPTvUvosTnCoXFEcb'>\n",
        "\n"
      ]
    },
    {
      "cell_type": "markdown",
      "metadata": {
        "id": "fMT9P1XgNo7W"
      },
      "source": [
        "# **Feature Importance**"
      ]
    },
    {
      "cell_type": "markdown",
      "metadata": {
        "id": "xsFTHs9oNgLT"
      },
      "source": [
        "Recall,\n",
        "* In case of logistic and linear regression after standardisation we can just consider absolute value of weights which give us feature importance \n",
        "\n",
        "But we don't have any weights in DT.\n",
        "\n",
        "#### Question: How can we get Feature importance for DT ? Any ideas?\n",
        "\n",
        "Suppose we have 10,000 datapoints @ root node.\n",
        "\n",
        "Let us consider a feature $f_i$ which is used twice in splitting a decision tree \n",
        "\n",
        "* At first split let the number of data points be 5000($n_1$) and Infromation Gain is IG$_1$\n",
        "* Let number of data points at second split be 500($n_2$) and Infromation Gain is IG$_2$\n",
        "\n",
        "* We calculate feature importaance of $f_i$ by \n",
        " - $f_i$ = IG$_1$ * $\\frac{n_1}{n}$ + IG$_2$ * $\\frac{n_2}{n}$ \n",
        " * i.e $f_i$ = IG$_1$ * $\\frac{5000}{10,000}$ + IG$_2$ * $\\frac{500}{10,000}$ \n",
        "\n",
        "This is called **normalized information gain.**\n",
        "\n",
        "* Closer to the root node, more the weightage\n",
        "    - it gives more weightage based on number of datapoints it is impacting.\n"
      ]
    },
    {
      "cell_type": "markdown",
      "metadata": {
        "id": "RTSKeOpqbaE1"
      },
      "source": [
        "\n",
        "\n",
        "<img src='https://drive.google.com/uc?id=12gJv36lGDumsuJ0bdafTB1Iq8bPpbs68'>\n"
      ]
    },
    {
      "cell_type": "markdown",
      "metadata": {
        "id": "hQOYWdHTcSWq"
      },
      "source": [
        "We calculate normalized information gain for all features and \n",
        "- this Normalized IG is used as feature importances.\n",
        "\n",
        "\n",
        "Do note that this is one of the popular way of calulating Feature importance.\n",
        "\n",
        "Different libraries may use different way of calculating Feature importance i.e. implementation specific.\n",
        "\n"
      ]
    },
    {
      "cell_type": "markdown",
      "metadata": {
        "id": "OH3nHrc9NonL"
      },
      "source": [
        "\n",
        "\n",
        "<img src='https://drive.google.com/uc?id=1_89mxH7bzeSeuR90uQjSwU-jPlSGkeqV'>\n"
      ]
    },
    {
      "cell_type": "markdown",
      "metadata": {
        "id": "s64u0nqV8u_W"
      },
      "source": [
        "### Code walkthrough"
      ]
    },
    {
      "cell_type": "code",
      "execution_count": null,
      "metadata": {
        "colab": {
          "base_uri": "https://localhost:8080/",
          "height": 627
        },
        "id": "cY19KT0a7wum",
        "outputId": "f45f0023-c3cc-4883-bb02-feabae061f4e"
      },
      "outputs": [
        {
          "output_type": "display_data",
          "data": {
            "text/plain": [
              "<Figure size 1080x504 with 1 Axes>"
            ],
            "image/png": "[encoded data removed]"
          },
          "metadata": {
            "needs_background": "light"
          }
        }
      ],
      "source": [
        "importances = tree_clf.feature_importances_\n",
        "indices = np.argsort(importances)[::-1] # Sort feature importances in descending order\n",
        "names = [X_sm.columns[i] for i in indices] # Rearrange feature names so they match the sorted feature importances\n",
        "\n",
        "plt.figure(figsize=(15, 7)) # Create plot\n",
        "plt.title(\"Feature Importance\") # Create plot title\n",
        "plt.bar(range(X_sm.shape[1]), importances[indices]) # Add bars\n",
        "plt.xticks(range(X_sm.shape[1]), names, rotation=90) # Add feature names as x-axis labels\n",
        "plt.show() # Show plot"
      ]
    },
    {
      "cell_type": "code",
      "execution_count": null,
      "metadata": {
        "id": "_nIJC5_Z8l7L",
        "colab": {
          "base_uri": "https://localhost:8080/",
          "height": 363
        },
        "outputId": "39761621-3dc9-4a6f-c846-ea4883621f4b"
      },
      "outputs": [
        {
          "output_type": "execute_result",
          "data": {
            "text/plain": [
              "                             Feature  Coefficient\n",
              "0               MaritalStatus_Single     0.551861\n",
              "1  Department_Research & Development     0.116828\n",
              "2                     JobInvolvement     0.086921\n",
              "3                            JobRole     0.082005\n",
              "4                    JobSatisfaction     0.068126\n",
              "5                   StockOptionLevel     0.030027\n",
              "6              TrainingTimesLastYear     0.027184\n",
              "7                      MonthlyIncome     0.025852\n",
              "8   BusinessTravel_Travel_Frequently     0.005684\n",
              "9                                Age     0.005513"
            ],
            "text/html": [
              "\n",
              "  <div id=\"df-5b5ce898-761d-4607-85a1-8e7c195c3bdc\">\n",
              "    <div class=\"colab-df-container\">\n",
              "      <div>\n",
              "<style scoped>\n",
              "    .dataframe tbody tr th:only-of-type {\n",
              "        vertical-align: middle;\n",
              "    }\n",
              "\n",
              "    .dataframe tbody tr th {\n",
              "        vertical-align: top;\n",
              "    }\n",
              "\n",
              "    .dataframe thead th {\n",
              "        text-align: right;\n",
              "    }\n",
              "</style>\n",
              "<table border=\"1\" class=\"dataframe\">\n",
              "  <thead>\n",
              "    <tr style=\"text-align: right;\">\n",
              "      <th></th>\n",
              "      <th>Feature</th>\n",
              "      <th>Coefficient</th>\n",
              "    </tr>\n",
              "  </thead>\n",
              "  <tbody>\n",
              "    <tr>\n",
              "      <th>0</th>\n",
              "      <td>MaritalStatus_Single</td>\n",
              "      <td>0.551861</td>\n",
              "    </tr>\n",
              "    <tr>\n",
              "      <th>1</th>\n",
              "      <td>Department_Research &amp; Development</td>\n",
              "      <td>0.116828</td>\n",
              "    </tr>\n",
              "    <tr>\n",
              "      <th>2</th>\n",
              "      <td>JobInvolvement</td>\n",
              "      <td>0.086921</td>\n",
              "    </tr>\n",
              "    <tr>\n",
              "      <th>3</th>\n",
              "      <td>JobRole</td>\n",
              "      <td>0.082005</td>\n",
              "    </tr>\n",
              "    <tr>\n",
              "      <th>4</th>\n",
              "      <td>JobSatisfaction</td>\n",
              "      <td>0.068126</td>\n",
              "    </tr>\n",
              "    <tr>\n",
              "      <th>5</th>\n",
              "      <td>StockOptionLevel</td>\n",
              "      <td>0.030027</td>\n",
              "    </tr>\n",
              "    <tr>\n",
              "      <th>6</th>\n",
              "      <td>TrainingTimesLastYear</td>\n",
              "      <td>0.027184</td>\n",
              "    </tr>\n",
              "    <tr>\n",
              "      <th>7</th>\n",
              "      <td>MonthlyIncome</td>\n",
              "      <td>0.025852</td>\n",
              "    </tr>\n",
              "    <tr>\n",
              "      <th>8</th>\n",
              "      <td>BusinessTravel_Travel_Frequently</td>\n",
              "      <td>0.005684</td>\n",
              "    </tr>\n",
              "    <tr>\n",
              "      <th>9</th>\n",
              "      <td>Age</td>\n",
              "      <td>0.005513</td>\n",
              "    </tr>\n",
              "  </tbody>\n",
              "</table>\n",
              "</div>\n",
              "      <button class=\"colab-df-convert\" onclick=\"convertToInteractive('df-5b5ce898-761d-4607-85a1-8e7c195c3bdc')\"\n",
              "              title=\"Convert this dataframe to an interactive table.\"\n",
              "              style=\"display:none;\">\n",
              "        \n",
              "  <svg xmlns=\"http://www.w3.org/2000/svg\" height=\"24px\"viewBox=\"0 0 24 24\"\n",
              "       width=\"24px\">\n",
              "    <path d=\"M0 0h24v24H0V0z\" fill=\"none\"/>\n",
              "    <path d=\"M18.56 5.44l.94 2.06.94-2.06 2.06-.94-2.06-.94-.94-2.06-.94 2.06-2.06.94zm-11 1L8.5 8.5l.94-2.06 2.06-.94-2.06-.94L8.5 2.5l-.94 2.06-2.06.94zm10 10l.94 2.06.94-2.06 2.06-.94-2.06-.94-.94-2.06-.94 2.06-2.06.94z\"/><path d=\"M17.41 7.96l-1.37-1.37c-.4-.4-.92-.59-1.43-.59-.52 0-1.04.2-1.43.59L10.3 9.45l-7.72 7.72c-.78.78-.78 2.05 0 2.83L4 21.41c.39.39.9.59 1.41.59.51 0 1.02-.2 1.41-.59l7.78-7.78 2.81-2.81c.8-.78.8-2.07 0-2.86zM5.41 20L4 18.59l7.72-7.72 1.47 1.35L5.41 20z\"/>\n",
              "  </svg>\n",
              "      </button>\n",
              "      \n",
              "  <style>\n",
              "    .colab-df-container {\n",
              "      display:flex;\n",
              "      flex-wrap:wrap;\n",
              "      gap: 12px;\n",
              "    }\n",
              "\n",
              "    .colab-df-convert {\n",
              "      background-color: #E8F0FE;\n",
              "      border: none;\n",
              "      border-radius: 50%;\n",
              "      cursor: pointer;\n",
              "      display: none;\n",
              "      fill: #1967D2;\n",
              "      height: 32px;\n",
              "      padding: 0 0 0 0;\n",
              "      width: 32px;\n",
              "    }\n",
              "\n",
              "    .colab-df-convert:hover {\n",
              "      background-color: #E2EBFA;\n",
              "      box-shadow: 0px 1px 2px rgba(60, 64, 67, 0.3), 0px 1px 3px 1px rgba(60, 64, 67, 0.15);\n",
              "      fill: #174EA6;\n",
              "    }\n",
              "\n",
              "    [theme=dark] .colab-df-convert {\n",
              "      background-color: #3B4455;\n",
              "      fill: #D2E3FC;\n",
              "    }\n",
              "\n",
              "    [theme=dark] .colab-df-convert:hover {\n",
              "      background-color: #434B5C;\n",
              "      box-shadow: 0px 1px 3px 1px rgba(0, 0, 0, 0.15);\n",
              "      filter: drop-shadow(0px 1px 2px rgba(0, 0, 0, 0.3));\n",
              "      fill: #FFFFFF;\n",
              "    }\n",
              "  </style>\n",
              "\n",
              "      <script>\n",
              "        const buttonEl =\n",
              "          document.querySelector('#df-5b5ce898-761d-4607-85a1-8e7c195c3bdc button.colab-df-convert');\n",
              "        buttonEl.style.display =\n",
              "          google.colab.kernel.accessAllowed ? 'block' : 'none';\n",
              "\n",
              "        async function convertToInteractive(key) {\n",
              "          const element = document.querySelector('#df-5b5ce898-761d-4607-85a1-8e7c195c3bdc');\n",
              "          const dataTable =\n",
              "            await google.colab.kernel.invokeFunction('convertToInteractive',\n",
              "                                                     [key], {});\n",
              "          if (!dataTable) return;\n",
              "\n",
              "          const docLinkHtml = 'Like what you see? Visit the ' +\n",
              "            '<a target=\"_blank\" href=https://colab.research.google.com/notebooks/data_table.ipynb>data table notebook</a>'\n",
              "            + ' to learn more about interactive tables.';\n",
              "          element.innerHTML = '';\n",
              "          dataTable['output_type'] = 'display_data';\n",
              "          await google.colab.output.renderOutput(dataTable, element);\n",
              "          const docLink = document.createElement('div');\n",
              "          docLink.innerHTML = docLinkHtml;\n",
              "          element.appendChild(docLink);\n",
              "        }\n",
              "      </script>\n",
              "    </div>\n",
              "  </div>\n",
              "  "
            ]
          },
          "metadata": {},
          "execution_count": 64
        }
      ],
      "source": [
        "df_param_coeff = pd.DataFrame(columns=['Feature', 'Coefficient'])\n",
        "for i in range(len(list(X_sm.columns))):\n",
        "    feat = X_sm.columns[i]\n",
        "    coeff = importances[i]\n",
        "    df_param_coeff.loc[i] = (feat, coeff)\n",
        "df_param_coeff.sort_values(by='Coefficient', ascending=False, inplace=True)\n",
        "df_param_coeff = df_param_coeff.reset_index(drop=True)\n",
        "df_param_coeff.head(10)"
      ]
    },
    {
      "cell_type": "markdown",
      "metadata": {
        "id": "U_xv-Cv78qJ9"
      },
      "source": [
        "#### What can we infer from this data ?\n",
        "- Marital Status affects attrition the most i.e. people with marital status single might be more likely attrite\n",
        "- So the company can give some perks to these employees in order to reduce attrition rate\n",
        "- Then comes factors such as R & D and Job Involvement."
      ]
    },
    {
      "cell_type": "markdown",
      "metadata": {
        "id": "qthT9V2UBVCb"
      },
      "source": [
        "# **Regression using decision tree**"
      ]
    },
    {
      "cell_type": "markdown",
      "metadata": {
        "id": "RlfrJMoiBg8b"
      },
      "source": [
        "For Classifiaction task,  \n",
        "* We had entropy and Gini Impurity to choose the feature for split. \n",
        "* At leaf node, we had datapoints with $y_i's$ and\n",
        "    - we used class label of **majority data points** to predict the class label for query data point.\n",
        "\n",
        "#### Question: Can we use Entropy or Gini Impurity for regression?\n",
        "NO! Since entropy and GI are functions of probability of class labels.\n",
        "- For regression, we don't have any class labels\n",
        "- We have continous values.\n",
        "\n",
        "\n",
        "Also, we have continous y label in leaf nodes as well. How do we calculate predicted label? \n",
        "\n",
        "**What do we do in the Regression?**\n",
        "*  We take the mean or median of all values in the leaf node and give that value as predicted value ($y_{pred}$).\n",
        "\n"
      ]
    },
    {
      "cell_type": "markdown",
      "metadata": {
        "id": "bXkBdbYpH_ae"
      },
      "source": [
        "\n",
        "<img src='https://drive.google.com/uc?id=18nvTgpEKS4Rhcn4em4hPNgyH1eRLF14Q'>"
      ]
    },
    {
      "cell_type": "markdown",
      "metadata": {
        "id": "njYXMnDqFtom"
      },
      "source": [
        "#### Question: What is the alternative for Entropy? (Hint: Recall Linear Regression)\n",
        "* here, as we saw in linear regression already,we can use **Mean Squared Error or Median Absolute error**\n",
        "\n",
        "Let us assume a data D at root node \n",
        "- along with $y_i$ (continuous) \n",
        "- It is split into D1 and D2 \n",
        "\n",
        "Now we calculate \n",
        "- the MSE of these points in parent node and \n",
        "- the weighted MSE for the child nodes\n",
        "\n",
        "\n",
        "Now, the difference between the MSE of parent node and weighted MSE of child nodes can be used as the criteria.\n",
        " * ΔMSE = (MSE of parent node) $-$ (weighted MSE of child nodes) \n",
        "\n",
        "* MSE is lowest when all $y_i$'s are same and high when they are diverse"
      ]
    },
    {
      "cell_type": "markdown",
      "metadata": {
        "id": "fdr81NSnIKiT"
      },
      "source": [
        "\n",
        "<img src='https://drive.google.com/uc?id=11QnvrLTzCUN0pDEXHb5zXSOTIL_UHV-X'>\n",
        "\n"
      ]
    },
    {
      "cell_type": "markdown",
      "metadata": {
        "id": "VoV9LoyJnPyx"
      },
      "source": [
        "\n",
        "<img src='https://drive.google.com/uc?id=1jGzM-H3p-wgW3_bVga-WMNb_QsF0x5mj'>"
      ]
    },
    {
      "cell_type": "markdown",
      "metadata": {
        "id": "-4QxqIriIiYe"
      },
      "source": [
        "#### How is MSE calculated? \n",
        " \n",
        "Let us assume we have a datapoints with target value $y$ \n",
        "* We consider the mean or medain of these points as predicted value i.e $ŷ_i$\n",
        "* Now we calculate the MSE or MAE for these points, this will be the MSE of parent node.\n",
        "* After the data is split \n",
        " * We now consider the mean of all values ($y_i'$) in child node as predicted value $ŷ_i'$\n",
        " * we now calculate the MSE or MAE for these in each child node and then calculate the weighted  MSE of the child nodes.\n",
        "* Then we find the difference and use this as the critearia to be compared among the features to decide the split."
      ]
    },
    {
      "cell_type": "markdown",
      "metadata": {
        "id": "cPDDoE7IL4fA"
      },
      "source": [
        "\n",
        "<img src='https://drive.google.com/uc?id=1J8ifUk-ir3xCSsTRkr855bU0RB_ea-gF'>"
      ]
    },
    {
      "cell_type": "markdown",
      "metadata": {
        "id": "Nlk6WXkCjmIU"
      },
      "source": [
        "### Example\n",
        "\n"
      ]
    },
    {
      "cell_type": "markdown",
      "metadata": {
        "id": "lWBjurg7lb9p"
      },
      "source": [
        "Suppose we have 6 datapoints with two features ($f_1, f_2$)\n",
        "- $f_1$ has categories $C_1, C_2, C_3, C_4$\n",
        "- $f_2$ has categories $D_1, D_2, D_3$\n",
        "- $y_i$'s are 1,2,3,4,5,6 resp.\n",
        "\n",
        "#### Question: What will be the $ŷ$?\n",
        "It'll be mean on the $y_i$'s i.e. 3.5\n",
        "\n",
        "Suppose we are splitting by $f_1$\n",
        "- There will be 4 child nodes as there are 4 categories\n",
        "\n",
        "For category $C_1$\n",
        "- We get 3 datapoints in child node\n",
        "- $ŷ$ will be mean of 1,2,3 i.e. 2\n",
        "\n",
        "For $C_2$\n",
        "- We only got 1 datapoints\n",
        "- MSE for this node will be zero as actual y and predicted y will be same\n",
        "\n",
        "Similarly, we get datapoints in $C_3$ and $C_4$\n",
        "\n",
        "- We calculate MSE for child nodes and then calculate weighted MSE for child nodes\n",
        "- Then, we calculate ΔMSE i.e. MSE parent - weighted MSE of child.\n",
        "\n",
        "\n",
        "#### What does ΔMSE signify?\n",
        "It signifies the reduction in MSE from parent to child.\n",
        "\n",
        "#### What is objective of regression?\n",
        "We want to reduce the MSE as much as possible\n",
        "\n",
        "So, We will pick the feature with highest ΔMSE  for split\n",
        "\n"
      ]
    },
    {
      "cell_type": "markdown",
      "metadata": {
        "id": "2DQHcjpylGih"
      },
      "source": [
        "\n",
        "<img src='https://drive.google.com/uc?id=1TTqz-kAYonTuDkR81BbBW_s4ZT8JxPwF'>"
      ]
    },
    {
      "cell_type": "markdown",
      "source": [
        "### Code walkthrough -sklearn DT regressor"
      ],
      "metadata": {
        "id": "vgsiOBjTAH4F"
      }
    },
    {
      "cell_type": "code",
      "execution_count": null,
      "metadata": {
        "id": "KhnfHislSHhm"
      },
      "outputs": [],
      "source": [
        "from sklearn.tree import DecisionTreeRegressor\n",
        "from sklearn.metrics import mean_squared_error\n",
        "from sklearn.model_selection import KFold, cross_validate"
      ]
    },
    {
      "cell_type": "code",
      "execution_count": null,
      "metadata": {
        "id": "2pGzjOW9Riuk"
      },
      "outputs": [],
      "source": [
        "X_train = X_train.values.reshape(-1,1)"
      ]
    },
    {
      "cell_type": "code",
      "execution_count": null,
      "metadata": {
        "id": "-CWE2y1wR0qm"
      },
      "outputs": [],
      "source": [
        "y_train = y_train.values"
      ]
    },
    {
      "cell_type": "code",
      "execution_count": null,
      "metadata": {
        "id": "EEym_a0AQ_SJ",
        "colab": {
          "base_uri": "https://localhost:8080/"
        },
        "outputId": "e6df43a8-be5b-4846-ee63-395566e1cac8"
      },
      "outputs": [
        {
          "output_type": "stream",
          "name": "stdout",
          "text": [
            "K-Fold for depth:1 -ve MSE Mean: Train: -157.26203654446752 Validation: -162.90925592378582\n",
            "***************\n",
            "K-Fold for depth:2 -ve MSE Mean: Train: -4.048119079766786 Validation: -13.39989251528687\n",
            "***************\n",
            "K-Fold for depth:3 -ve MSE Mean: Train: -3.9038139450277405 Validation: -13.834955053322545\n",
            "***************\n",
            "K-Fold for depth:5 -ve MSE Mean: Train: -3.7902751186766683 Validation: -13.84652404788459\n",
            "***************\n",
            "K-Fold for depth:6 -ve MSE Mean: Train: -3.783735335389713 Validation: -13.891536196689499\n",
            "***************\n",
            "K-Fold for depth:7 -ve MSE Mean: Train: -3.781426977910967 Validation: -13.896999974822002\n",
            "***************\n",
            "K-Fold for depth:9 -ve MSE Mean: Train: -3.781426977910967 Validation: -13.896999974822002\n",
            "***************\n",
            "K-Fold for depth:11 -ve MSE Mean: Train: -3.781426977910967 Validation: -13.896999974822002\n",
            "***************\n"
          ]
        }
      ],
      "source": [
        "depths = [1,2,3,5,6,7,9,11]\n",
        "\n",
        "for depth in depths:\n",
        "    tree_reg = DecisionTreeRegressor(random_state=7, max_depth = depth, min_samples_split = 10, min_samples_leaf = 20)\n",
        "\n",
        "    cv_acc_results = cross_validate(tree_reg, X_train, y_train, cv = kfold, scoring = 'neg_mean_squared_error', return_train_score = True)\n",
        "\n",
        "    print(f\"K-Fold for depth:{depth} -ve MSE Mean: Train: {cv_acc_results['train_score'].mean()*100} Validation: {cv_acc_results['test_score'].mean()*100}\")\n",
        "    print('***************')"
      ]
    },
    {
      "cell_type": "markdown",
      "metadata": {
        "id": "tpe1tq4MULO-"
      },
      "source": [
        "Notice, The regressor is overfitting\n",
        "- This may be due to the fact that we have low number of datapoints for training.\n",
        "- we can also try playing with hyperparam tuning\n",
        "\n"
      ]
    },
    {
      "cell_type": "markdown",
      "metadata": {
        "id": "Wv7a4Gh2V5lp"
      },
      "source": [
        "#### Visualizing Decision Tree"
      ]
    },
    {
      "cell_type": "code",
      "execution_count": null,
      "metadata": {
        "id": "VadWyMMxTZjq"
      },
      "outputs": [],
      "source": [
        "features = list(regression_data.columns[0])"
      ]
    },
    {
      "cell_type": "code",
      "execution_count": null,
      "metadata": {
        "id": "eifwk-npTkzb",
        "colab": {
          "base_uri": "https://localhost:8080/"
        },
        "outputId": "4ff2226f-42e5-4eba-8cb4-3f76c60a1214"
      },
      "outputs": [
        {
          "output_type": "execute_result",
          "data": {
            "text/plain": [
              "DecisionTreeRegressor(max_depth=2, min_samples_split=20, random_state=7)"
            ]
          },
          "metadata": {},
          "execution_count": 83
        }
      ],
      "source": [
        "tree_reg = DecisionTreeRegressor(random_state=7, max_depth = 2, min_samples_split = 20 )\n",
        "tree_reg.fit(X_train, y_train)"
      ]
    },
    {
      "cell_type": "code",
      "execution_count": null,
      "metadata": {
        "id": "Y0hISD9NTOtL",
        "colab": {
          "base_uri": "https://localhost:8080/",
          "height": 376
        },
        "outputId": "25cbfd4f-ec88-440a-e995-6a6f9889d725"
      },
      "outputs": [
        {
          "output_type": "execute_result",
          "data": {
            "image/png": "[encoded data removed]",
            "text/plain": [
              "<IPython.core.display.Image object>"
            ]
          },
          "metadata": {},
          "execution_count": 84
        }
      ],
      "source": [
        "dot_data = StringIO()\n",
        "export_graphviz(tree_reg, out_file=dot_data, feature_names=features, filled=True)\n",
        "graph = pydot.graph_from_dot_data(dot_data.getvalue())\n",
        "Image(graph[0].create_png())\n"
      ]
    },
    {
      "cell_type": "markdown",
      "metadata": {
        "id": "DJ8vc5_HV8QO"
      },
      "source": [
        "#### Visualizing Regression Line"
      ]
    },
    {
      "cell_type": "code",
      "execution_count": null,
      "metadata": {
        "id": "nUWUw1VkVHQf",
        "colab": {
          "base_uri": "https://localhost:8080/",
          "height": 622
        },
        "outputId": "8000231b-7b93-4b4c-be59-5c8e01c377e0"
      },
      "outputs": [
        {
          "output_type": "display_data",
          "data": {
            "text/plain": [
              "<Figure size 1080x720 with 1 Axes>"
            ],
            "image/png": "[encoded data removed]"
          },
          "metadata": {
            "needs_background": "light"
          }
        }
      ],
      "source": [
        "X_grid = np.arange(min(X_train), max(X_train), 0.01)\n",
        "X_grid = X_grid.reshape((len(X_grid), 1))\n",
        "plt.figure(figsize = (15,10))\n",
        "plt.scatter(X_train, y_train, color = 'red', label = 'Training data')\n",
        "plt.scatter (X_test, y_test, color = 'green', label = 'Test data')\n",
        "plt.plot(X_grid, tree_reg.predict(X_grid), color = 'blue')\n",
        "plt.title('Decision Tree Regression')\n",
        "plt.xlabel('X_train') \n",
        "plt.ylabel('Y')\n",
        "plt.legend()\n",
        "plt.show()"
      ]
    },
    {
      "cell_type": "markdown",
      "metadata": {
        "id": "bja_aP2sc-bH"
      },
      "source": [
        "# Good to know: Greedy Approximation of DT"
      ]
    },
    {
      "cell_type": "markdown",
      "metadata": {
        "id": "OuEnRiCDcRgl"
      },
      "source": [
        "There is no guarantee that DT being created is going to be the most opitmal one\n",
        "\n",
        "* **Building an optimal Decision Tree is a NP-Complete problem** \n",
        "    - This means it can't be done in polynomial time\n",
        "   \n",
        "\n",
        "* So, we do **Greedy approximation**, which picks the feature which gives the best Information Gain\n",
        "    - The decision taken is the one that is best at that time\n",
        "    - It might not be the best for entire decision tree"
      ]
    },
    {
      "cell_type": "markdown",
      "metadata": {
        "id": "sLmD7qDydDHa"
      },
      "source": [
        "\n",
        "\n",
        "<img src='https://drive.google.com/uc?id=1RPdMDPcY6yPSngdtIYo9fMA9aFmadjg6'>\n"
      ]
    },
    {
      "cell_type": "markdown",
      "metadata": {
        "id": "xWMzXsKF7Y21"
      },
      "source": [
        "## Summary of Decision Tree"
      ]
    },
    {
      "cell_type": "markdown",
      "metadata": {
        "id": "uTxatbr07ecp"
      },
      "source": [
        "To summarise everything what we have learnt about decision tree:\n",
        "\n",
        "1.   Decision Trees work well **when the d (depth) is not too large**\n",
        "2. They have a very low **Run-time complexity** \n",
        "3. **No standardisation** is needed.\n",
        "4. Depth is the key **hyper-parameter**\n",
        "\n",
        "\n"
      ]
    },
    {
      "cell_type": "markdown",
      "metadata": {
        "id": "gPaE3__iBpWP"
      },
      "source": [
        "\n",
        "<img src='https://drive.google.com/uc?id=1qAHiBvWa19rqX-lI49DmmdZ4ATwoW9AB'>"
      ]
    },
    {
      "cell_type": "markdown",
      "source": [
        "# What Are Ensemble Models?"
      ],
      "metadata": {
        "id": "EochCj4CDcq6"
      }
    },
    {
      "cell_type": "markdown",
      "source": [
        "<center><img src='https://images.squarespace-cdn.com/content/v1/57dc396a03596e8da9fe6b73/1475277470988-9FJ47B36S61C5VXQ24HU/UBC_Bands.jpg' width = 600>"
      ],
      "metadata": {
        "id": "PNdQD8nlCLy-"
      }
    },
    {
      "cell_type": "markdown",
      "source": [
        "* Till now we have trained only one model for one task. But we have learnt many kinds of models. **Do you think we could somehow use multiple models for the same task?**\n",
        "\n",
        "* What if we can **train multiple base learners or models** which are as different as possible and **combine them smartly**?\n",
        "\n",
        "* Example: Instead of training one Decisioon tree we can train 100 decision trees and combine them \n",
        "* This is the key principle of ensembles \n",
        "\n",
        "\n",
        "* The word ensemble in english means multiple things, roughly it means **mixing** or **coming together**.\n",
        "\n",
        " * We can also train various machine learning models like Decision tree, logistic Regression, KNN and can combine them smartly. \n"
      ],
      "metadata": {
        "id": "yVdlz_jfDcrE"
      }
    },
    {
      "cell_type": "markdown",
      "source": [
        "\n",
        "<img src='https://drive.google.com/uc?id=1PvJuXnvX6OY1_uAq8eOXFDjYvuxWh3vc'>\n"
      ],
      "metadata": {
        "id": "RBH7oU8aDcrE"
      }
    },
    {
      "cell_type": "markdown",
      "source": [
        "### Types of Ensembles\n",
        "\n",
        "There are four main types of ensemble\n",
        "1. Bagging\n",
        " * Example : Random Forest\n",
        "2. Boosting \n",
        " * Example : GBDT\n",
        "3. Stacking\n",
        "4. Cascading\n",
        "\n",
        "Also, a mix of each of these can be possible"
      ],
      "metadata": {
        "id": "P_lFdExCDcrF"
      }
    },
    {
      "cell_type": "markdown",
      "source": [
        "\n",
        "\n",
        "<img src='https://drive.google.com/uc?id=1njR8DUne8941A1S9jwxGcG8JkzWxlVGM'>"
      ],
      "metadata": {
        "id": "Bepq1upoDcrF"
      }
    },
    {
      "cell_type": "markdown",
      "source": [
        "# **Bagging**"
      ],
      "metadata": {
        "id": "3D93J6eW_-mv"
      }
    },
    {
      "cell_type": "markdown",
      "source": [
        "* Bagging is simply the **Bootstrapped Aggregation**.\n",
        "\n",
        "\n",
        "> - Q1: Let's say we have 3 different models, *M1, M2, M3* and all are trained for the same regression task to predict house prices. Can you think of a simple way to use predictions from these 3 different models together ?\n",
        "> - Ans: We can take the average prediction. (There are more complex ways, but we will not discuss those right now)\n",
        "> - Q2: Can you think similarly for a classification model?\n",
        "> - Ans: Voting. \n",
        "\n",
        "\n",
        "**Bagging refers to training different models for the same task, independently of each other and then cleverly combining their predictions.**\n",
        "\n",
        "\n"
      ],
      "metadata": {
        "id": "Jgq4u5EFABzh"
      }
    }
  ]
}