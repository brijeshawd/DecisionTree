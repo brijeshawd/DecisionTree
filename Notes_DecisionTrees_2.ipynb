{
  "nbformat": 4,
  "nbformat_minor": 0,
  "metadata": {
    "colab": {
      "provenance": []
    },
    "kernelspec": {
      "name": "python3",
      "display_name": "Python 3"
    },
    "language_info": {
      "name": "python"
    }
  },
  "cells": [
    {
      "cell_type": "markdown",
      "source": [
        "## Content\n",
        "\n",
        "\n",
        "- Gini impurity\n",
        "    - issue with Entropy\n",
        "    - Comparing Gini impurity with Entropy\n",
        "    - Code walkthrough\n",
        "\n",
        "- Code for Decision Tree - sklearn\n",
        "\n",
        "- Split for numerical features\n",
        "\n",
        "\n",
        "- Overfitting/Underfitting\n",
        "    - Geometric Intuition\n",
        "\n",
        "- Hyperparameter tuning\n",
        "\n",
        "- Impact of Outliers\n",
        "\n",
        "- Standardization\n",
        "\n",
        "- Encoding of categorical features for DT (with large categories)\n",
        "\n",
        "- DT for High demensionality data \n",
        "\n",
        "- Imbalance in DT"
      ],
      "metadata": {
        "id": "JhojoJH_e_3m"
      }
    },
    {
      "cell_type": "markdown",
      "metadata": {
        "id": "c9B5pIIGC6Ws"
      },
      "source": [
        "# **Gini - Impurity / Gini Index**"
      ]
    },
    {
      "cell_type": "markdown",
      "metadata": {
        "id": "n7TpitsYBqkU"
      },
      "source": [
        "#### **Issue with Entropy**\n",
        "\n",
        "Entropy is defined as $H(Y) = - ∑_{i=1}^k p(y_i)log(p(y_i))$\n",
        "\n",
        "Issue with Entropy is that we have to take log of probability.\n",
        "- log is computationally expensive \n",
        "- We have to calculate entropy for each feature at each node\n",
        "- This becomes time consuming.\n",
        "\n",
        "#### How to resolve this issue?\n",
        "\n",
        "We introduce **Gini Impurity** to fix this issue"
      ]
    },
    {
      "cell_type": "markdown",
      "metadata": {
        "id": "5hlISRDXEP0o"
      },
      "source": [
        "Gini impurity is also a measure like entropy which is used to measure purity\n",
        "\n",
        "Let **GI** be **gini impurity**\n",
        "* Gini Impurity of random variable Y is given by \n",
        " * GI(Y) = $1-∑_{i=1}^k(p(y_i)^2)$\n",
        " * For a binary classification:\n",
        "   * GI(y) = $1-[(p(y_i=1))^2+(p(y_i=0))^2]$\n",
        "\n"
      ]
    },
    {
      "cell_type": "markdown",
      "metadata": {
        "id": "jwSOElN6GOFt"
      },
      "source": [
        "\n",
        "<img src='https://drive.google.com/uc?id=18K19yOplDDUg3K-LGH6X16h_atSOgrbE'>\n"
      ]
    },
    {
      "cell_type": "markdown",
      "metadata": {
        "id": "lKBlxYX6LkAT"
      },
      "source": [
        "\n",
        "<img src='https://drive.google.com/uc?id=1wxHEHlGsH9K8q9G75csdSWr1DUtkM4mJ'>\n",
        "\n"
      ]
    },
    {
      "cell_type": "markdown",
      "metadata": {
        "id": "CNtD_CGlGUtp"
      },
      "source": [
        "### How Gini-Impurity compares with entropy?\n",
        "\n",
        "Let's see how Gini impurity behaves under various conditions"
      ]
    },
    {
      "cell_type": "markdown",
      "metadata": {
        "id": "1KGDXKZDGkTD"
      },
      "source": [
        "#### Case 1:\n",
        "\n",
        " let p($y_+$) be 0.5 and  p($y_-$) be 0.5\n",
        "- Here the entropy will be high\n",
        "    - Entropy = 1\n",
        "\n",
        "#### What will be Gini impurity in this case?\n",
        "\n",
        "- GI = 1 - (0.25 + 0.25) = 0.5"
      ]
    },
    {
      "cell_type": "markdown",
      "metadata": {
        "id": "aPzCFuKlJCcA"
      },
      "source": [
        "\n",
        "<img src='https://drive.google.com/uc?id=1t-MX5z2kAdvqA0hMOcgZlI3DNm8k1P5h'>\n"
      ]
    },
    {
      "cell_type": "markdown",
      "metadata": {
        "id": "ctVsczzoHhGI"
      },
      "source": [
        "#### Case 2\n",
        "\n",
        "let p($y_+$) be 1 and  p($y_-$) be 0\n",
        "\n",
        "#### Question: What will be entropy in this case?\n",
        "Ans: Entropy will be 0\n",
        "\n",
        "#### What will be Gini Impurity? \n",
        "* GI(Y) = 1 - (1 + 0) = 0\n",
        "\n"
      ]
    },
    {
      "cell_type": "markdown",
      "metadata": {
        "id": "tnSSkc-CJx7o"
      },
      "source": [
        "\n",
        "<img src='https://drive.google.com/uc?id=1ugbQnYUnB_ROmyK3ykYjKMeFPzVSIIZ_'>\n"
      ]
    },
    {
      "cell_type": "markdown",
      "metadata": {
        "id": "oa8ubKf-HxyT"
      },
      "source": [
        "From the above two examples we can see that\n",
        "-  Gini-Impurity is high when entropy is high\n",
        "- it is low when the entropy is low\n",
        "\n",
        "Let's plot the graph of Entropy as well as Gini Impurity:\n",
        "\n",
        "Notice that, \n",
        "\n",
        "1. When the **nodes are pure** i.e for\n",
        "    - if p($y_+$) = 1 and p($y_-$) = 0, or\n",
        "    - if p($y_+$) = 0 and p($y_-$) = 1\n",
        "\n",
        "**the Entropy and Gini-Impurity are zero**\n",
        "\n",
        "2. when the **probability of p($y_+) =\\frac{1}{2}$ and p($y_-)=\\frac{1}{2}$**\n",
        "    -  **the entropy and Gini- Impurity are maximum**\n",
        "\n",
        "* So, we can conclude that Gini-Impurity has same behaviour as entropy.\n",
        "  "
      ]
    },
    {
      "cell_type": "markdown",
      "metadata": {
        "id": "ccCZ0LltIGrh"
      },
      "source": [
        "\n",
        "<img src='https://drive.google.com/uc?id=1ei3q-Wt-Ts9_9BEV_FOKJZ1rqH68X3ck'>"
      ]
    },
    {
      "cell_type": "markdown",
      "metadata": {
        "id": "MNdMpd8fMw2_"
      },
      "source": [
        "\n",
        "### **Question: How do we calculate Information Gain using Gini Impurity?** \n",
        "\n",
        "* We can get Information gain by using Gini-Impurity also,\n",
        " \n",
        "**Information Gain = GI(Gini Impurity) of parent node - Weighted GI of the child nodes**"
      ]
    },
    {
      "cell_type": "markdown",
      "metadata": {
        "id": "BRLdD6xPVS-Q"
      },
      "source": [
        "### Code Walkthrough"
      ]
    },
    {
      "cell_type": "markdown",
      "metadata": {
        "id": "igGrSdjOE9bd"
      },
      "source": [
        "#### Gini Impurity"
      ]
    },
    {
      "cell_type": "code",
      "execution_count": null,
      "metadata": {
        "id": "ZnXguOWCD6yp"
      },
      "outputs": [],
      "source": [
        "def gini_impurity(y):\n",
        "    \n",
        "  if isinstance(y, pd.Series):\n",
        "    p = y.value_counts()/y.shape[0]\n",
        "    gini = 1-np.sum(p**2)\n",
        "    return gini\n",
        "\n",
        "  else:\n",
        "    raise('Object must be a Pandas Series.')"
      ]
    },
    {
      "cell_type": "code",
      "execution_count": null,
      "metadata": {
        "id": "je4xU5JZGth7",
        "colab": {
          "base_uri": "https://localhost:8080/"
        },
        "outputId": "289303ef-7b2b-402f-9515-38f87ab1f648"
      },
      "outputs": [
        {
          "output_type": "execute_result",
          "data": {
            "text/plain": [
              "0.28087799999999996"
            ]
          },
          "metadata": {},
          "execution_count": 19
        }
      ],
      "source": [
        "gini_impurity(sample_data.Attrition)"
      ]
    },
    {
      "cell_type": "markdown",
      "metadata": {
        "id": "lQmRJwaPHavh"
      },
      "source": [
        "#### Weighted Gini impurity for child node"
      ]
    },
    {
      "cell_type": "code",
      "execution_count": null,
      "metadata": {
        "id": "yGSoX93wGLK9"
      },
      "outputs": [],
      "source": [
        "def calculate_weighted_gini(feature, y):\n",
        "    categories = feature.unique()\n",
        "\n",
        "    weighted_gini_impurity = 0\n",
        "\n",
        "    for category in categories:\n",
        "        y_category = y[feature == category]\n",
        "        gini_impurity_category = gini_impurity(y_category)\n",
        "        # print(category)\n",
        "        # print(gini_impurity_category)\n",
        "        weighted_gini_impurity += y_category.shape[0]/y.shape[0]*gini_impurity_category\n",
        "\n",
        "    \n",
        "    return weighted_gini_impurity"
      ]
    },
    {
      "cell_type": "code",
      "execution_count": null,
      "metadata": {
        "id": "ZOVzVT1eG3oM",
        "colab": {
          "base_uri": "https://localhost:8080/"
        },
        "outputId": "5193a97e-3fa5-4cd8-a3f6-4b245e77ebd4"
      },
      "outputs": [
        {
          "output_type": "execute_result",
          "data": {
            "text/plain": [
              "0.2724771918985819"
            ]
          },
          "metadata": {},
          "execution_count": 21
        }
      ],
      "source": [
        "calculate_weighted_gini(sample_data.Age_less_35, sample_data.Attrition)"
      ]
    },
    {
      "cell_type": "markdown",
      "metadata": {
        "id": "27k6uTUWHeA3"
      },
      "source": [
        "#### Information Gain"
      ]
    },
    {
      "cell_type": "code",
      "execution_count": null,
      "metadata": {
        "id": "2ctCHgPXGl1z"
      },
      "outputs": [],
      "source": [
        "def information_gain(feature,y):\n",
        "    parent_gini = gini_impurity(y)\n",
        "\n",
        "    child_gini = calculate_weighted_gini(feature,y)\n",
        "\n",
        "    ig = parent_gini - child_gini\n",
        "\n",
        "    return ig"
      ]
    },
    {
      "cell_type": "code",
      "execution_count": null,
      "metadata": {
        "id": "7OvjWrkiG_Ui",
        "colab": {
          "base_uri": "https://localhost:8080/"
        },
        "outputId": "bc8532ae-a02e-4ef8-d26f-0f986345fec9"
      },
      "outputs": [
        {
          "output_type": "execute_result",
          "data": {
            "text/plain": [
              "0.008400808101418078"
            ]
          },
          "metadata": {},
          "execution_count": 23
        }
      ],
      "source": [
        "information_gain(sample_data.Age_less_35, sample_data.Attrition)"
      ]
    },
    {
      "cell_type": "code",
      "execution_count": null,
      "metadata": {
        "id": "gClu53cbGofZ",
        "colab": {
          "base_uri": "https://localhost:8080/"
        },
        "outputId": "30a4aa2b-695f-4c8f-954f-c121d897e597"
      },
      "outputs": [
        {
          "output_type": "stream",
          "name": "stdout",
          "text": [
            "Information Gain for feature Gender is 1.2832567979348397e-06\n",
            "Information Gain for feature Age_less_35 is 0.008400808101418078\n",
            "Information Gain for feature JobRole is 0.020654039636781696\n"
          ]
        }
      ],
      "source": [
        "for feature in sample_data.columns[:-1]:\n",
        "    print(f'Information Gain for feature {feature} is {information_gain(sample_data[feature],sample_data.Attrition)}')"
      ]
    },
    {
      "cell_type": "markdown",
      "metadata": {
        "id": "MNYFC_g_YV10"
      },
      "source": [
        "# **Code for Decision Tree - sklearn**\n",
        "\n",
        "\n"
      ]
    },
    {
      "cell_type": "markdown",
      "metadata": {
        "id": "-eIcRvVNiqpV"
      },
      "source": [
        "Now, let's try to classify our data using Decision Tree"
      ]
    },
    {
      "cell_type": "code",
      "execution_count": null,
      "metadata": {
        "id": "jHOHU8VSip85"
      },
      "outputs": [],
      "source": [
        "from sklearn.tree import DecisionTreeClassifier\n",
        "tree_clf = DecisionTreeClassifier(random_state=42)"
      ]
    },
    {
      "cell_type": "code",
      "source": [
        "# Train on training data\n",
        "tree_clf.fit(X_sm,y_sm)\n",
        "\n",
        "# predict on test data\n",
        "tree_clf.score(X_test,y_test)"
      ],
      "metadata": {
        "id": "DDs4NfvKrYsb",
        "colab": {
          "base_uri": "https://localhost:8080/"
        },
        "outputId": "e3f7a192-cf19-4496-835f-6c1b72f02a1b"
      },
      "execution_count": null,
      "outputs": [
        {
          "output_type": "execute_result",
          "data": {
            "text/plain": [
              "0.7635869565217391"
            ]
          },
          "metadata": {},
          "execution_count": 26
        }
      ]
    },
    {
      "cell_type": "markdown",
      "metadata": {
        "id": "-aLyaPSDi5wv"
      },
      "source": [
        "#### How can we define the performance of our model?\n",
        "\n",
        "- **Classification Accuracy**:\\\n",
        "Number of correct predictions made out of all predictions made.\n",
        "\n",
        "#### But is using accuracy enough ?\n",
        "  - We made our **dataset balanced** using oversampling\n",
        "  - There is no preference for any class\n",
        "  - This implies, accuracy in itself is enough for estimating model's performance\n",
        "\n",
        "We will also be using k-fold CV for training our model\n",
        "\n",
        "Recall the benefits of using CV\n",
        "\n"
      ]
    },
    {
      "cell_type": "code",
      "execution_count": null,
      "metadata": {
        "id": "UzsPVasXi9f_",
        "colab": {
          "base_uri": "https://localhost:8080/"
        },
        "outputId": "3946016a-7316-4a46-9a07-1d76c328a835"
      },
      "outputs": [
        {
          "output_type": "stream",
          "name": "stdout",
          "text": [
            "K-Fold Accuracy Mean: Train: 100.0 Validation: 83.6680376028202\n",
            "K-Fold Accuracy Std: Train: 0.0 Validation: 7.9089676612890765\n"
          ]
        }
      ],
      "source": [
        "from sklearn.model_selection import KFold, cross_validate\n",
        "\n",
        "kfold = KFold(n_splits=10)\n",
        "cv_acc_results = cross_validate(tree_clf, X_sm, y_sm, cv = kfold, scoring = 'accuracy', return_train_score = True)\n",
        "\n",
        "print(f\"K-Fold Accuracy Mean: Train: {cv_acc_results['train_score'].mean()*100} Validation: {cv_acc_results['test_score'].mean()*100}\")\n",
        "print(f\"K-Fold Accuracy Std: Train: {cv_acc_results['train_score'].std()*100} Validation: {cv_acc_results['test_score'].std()*100}\")"
      ]
    },
    {
      "cell_type": "markdown",
      "metadata": {
        "id": "RXQnGdidjA7t"
      },
      "source": [
        "#### What can we say from this info ?\n",
        "\n",
        "- There's a big difference in accuracy of training data and val data\n",
        "- So, **model is clearly overfitting the data**\n",
        "\n",
        "#### But why is this happening ?\n",
        "  - To understand this lets understand when does Decision Tree overfit/underfit"
      ]
    },
    {
      "cell_type": "code",
      "source": [
        "from sklearn.tree import plot_tree\n",
        "\n",
        "#plotting till depth of Tree = 2\n",
        "plt.figure(figsize=(12,12))\n",
        "plot_tree(tree_clf,max_depth = 2, filled=True);"
      ],
      "metadata": {
        "id": "w_R6OE8Orvh6",
        "colab": {
          "base_uri": "https://localhost:8080/",
          "height": 683
        },
        "outputId": "89f40e48-baa4-48e9-c695-8d8c837196e0"
      },
      "execution_count": null,
      "outputs": [
        {
          "output_type": "display_data",
          "data": {
            "text/plain": [
              "<Figure size 864x864 with 1 Axes>"
            ],
            "image/png": "[encoded data removed]"
          },
          "metadata": {
            "needs_background": "light"
          }
        }
      ]
    },
    {
      "cell_type": "markdown",
      "source": [
        "#**Stopping Criteria**"
      ],
      "metadata": {
        "id": "1JswjN2v5I_H"
      }
    },
    {
      "cell_type": "markdown",
      "source": [
        "#### **Question: What should be the stopping criteria to prevent the growth of a Decision Tree?**\n",
        "\n",
        "Ans: there are three major criteria for preventing growth of Decision Tree\n",
        "\n",
        "1. Number of datapoints in the node is less than some pre-specified limit\n",
        "    - e.g if a particular node has datapoints less than 20\n",
        "\n",
        "\n",
        "2. Purity of the node is more than some pre-specified limit. \n",
        "\n",
        "3. Depth of the node is more than some pre-specified limit.\n",
        "\n"
      ],
      "metadata": {
        "id": "9sDk1k_Tr9FB"
      }
    },
    {
      "cell_type": "markdown",
      "metadata": {
        "id": "F_wrwHyIOotR"
      },
      "source": [
        "# **Splitting numerical features**\n",
        "\n"
      ]
    },
    {
      "cell_type": "markdown",
      "metadata": {
        "id": "zC1hYpFMPyWu"
      },
      "source": [
        "If we have categorical features we can simply split basing on features, \n",
        "- but for numerical features, there are no categories.\n",
        "\n",
        "#### How do we do the splitting for numerical features?\n"
      ]
    },
    {
      "cell_type": "markdown",
      "metadata": {
        "id": "RgnVTsNpPdsu"
      },
      "source": [
        "\n",
        "<img src='https://drive.google.com/uc?id=1KnWSO5NlyG5HIOaUITYIyf4sQk_OAw-0'>\n"
      ]
    },
    {
      "cell_type": "markdown",
      "metadata": {
        "id": "MlF4VB3NQJVj"
      },
      "source": [
        "let us consider a numerical feature $f_1$ of $n$ values and categorical feature $f_2$\n",
        "\n",
        "Typically, we will have threshold and \n",
        "- We compare the each value of $f_1$ with a threshold \n",
        "- and split them basing on the threshold.\n",
        "\n",
        "\n",
        "#### But, how do we choose the threshold?\n",
        "\n",
        "- First we arrange $f_1$ in increasing order and \n",
        "    - set each value of $f_1$ as threshold\n",
        "    - Next, we calculate the IG of that split. \n",
        "    - Which gives us n IG values say IG$_1^1$, IG$_2^1$, IG$_3^1$ ..... IG$_n^1$ (for feature 1)\n",
        "\n",
        "- Now, we compare \n",
        "    - $n$ Information Gain values of numerical feature and IG values of categorical feature (IG$_1^2$)\n",
        "    - Amongst all of these, we choose the split has maximum Information Gain (IG).\n"
      ]
    },
    {
      "cell_type": "markdown",
      "metadata": {
        "id": "pr4aPFDJWeX6"
      },
      "source": [
        "<img src='https://drive.google.com/uc?id=149zkQMS_cNc_PVrvShQHUPWlX5kPXKd1'>\n"
      ]
    },
    {
      "cell_type": "markdown",
      "metadata": {
        "id": "EaoucTltWlNN"
      },
      "source": [
        "<img src='https://drive.google.com/uc?id=10-a4b97a0dLnP3V416rRJD_eGXv8trEm'>\n"
      ]
    },
    {
      "cell_type": "markdown",
      "metadata": {
        "id": "6kAgu9RBV19i"
      },
      "source": [
        "#### Question: What if two features are giving equal IG?\n",
        "\n",
        "Ans:  we can pick any one and do the splitting."
      ]
    },
    {
      "cell_type": "markdown",
      "metadata": {
        "id": "tXMxhYI_U0co"
      },
      "source": [
        "#### Optimizing feature split for numerical feature\n",
        "\n",
        "Computing IG for every feature is not very computationally efficient. so, \n",
        "- algorithms follow set of rules to bin it carefuuly.\n",
        "- The purpose of binning is to make it more computationally efficient.\n",
        "- There are some techniques to do binning but the simplest binning method is to use Quantiles (Q1,Q2,Q3,Q4)"
      ]
    },
    {
      "cell_type": "markdown",
      "metadata": {
        "id": "ciQZykTfmwGb"
      },
      "source": [
        "<img src='https://drive.google.com/uc?id=1gEqCxZWlf7nMZLPre0rEO52ZmmcwdKEv'>\n"
      ]
    },
    {
      "cell_type": "markdown",
      "metadata": {
        "id": "fgABfTXDWUzf"
      },
      "source": [
        "# **Overfit Vs Underfit**"
      ]
    },
    {
      "cell_type": "markdown",
      "metadata": {
        "id": "bQN6eRoSW5OM"
      },
      "source": [
        "### Question : When do you think we will overfit a decision tree model?\n",
        "\n",
        "We can say that the model is overfit when we go on splitting, which increases the Depth of the tree.\n",
        "\n",
        "**Depth** is the distance from the root node to the farthest leaf.\n",
        "\n",
        "In simple terms we can say that , as the depth increses we overfit more and more\n",
        "\n",
        "\n",
        "\n"
      ]
    },
    {
      "cell_type": "markdown",
      "metadata": {
        "id": "Pg7rLH3Z46iN"
      },
      "source": [
        "\n",
        "<img src='https://drive.google.com/uc?id=1J71DJWj-ROTjF7HO8iaXmVSTSvWQUKs9'>\n",
        "\n"
      ]
    },
    {
      "cell_type": "markdown",
      "metadata": {
        "id": "_E1n3dB14-YQ"
      },
      "source": [
        "\n",
        "## **Why does DT overfit as depth increases?** \n",
        "\n",
        "Imagine we have 1000 datapoints,\n",
        "- As the depth increases, the data set becomes smaller.\n",
        "\n",
        "Suppose by the time we reach the leaf node, we got a pure node but only 5 datapoints.\n",
        "\n",
        "As you go deeper, there will be fewer points\n",
        "\n",
        "- there may be chance these points (@ leaf node) are noise or outliers\n",
        "\n",
        "This results in Overfit.\n",
        "\n",
        "**Key lesson** : Too much depth is bad"
      ]
    },
    {
      "cell_type": "markdown",
      "metadata": {
        "id": "LJsfo0gIZf28"
      },
      "source": [
        "<img src='https://drive.google.com/uc?id=1nlGGvUplV-nqDCnB13U2GVx3FN9fSTZ4'>\n"
      ]
    },
    {
      "cell_type": "markdown",
      "metadata": {
        "id": "ncN1il-6ZuMH"
      },
      "source": [
        "## **What if the depth is too low? (Underfit)**"
      ]
    },
    {
      "cell_type": "markdown",
      "metadata": {
        "id": "71PaeiyNZ42H"
      },
      "source": [
        "Consider same example with 1000 datapoints at root node.\n",
        "\n",
        "Now, we usually grow a tree until we get pure node.\n",
        "\n",
        "Here, we are stopping the tree growth at depth =2\n",
        "- i.e. we are **pruning** the tree\n",
        "- In other words, we are cutting the  tree\n",
        "\n",
        "\n",
        "Suppose at one leaf node, we got\n",
        "- 500 +ve points\n",
        "- 200 -ve points\n",
        "\n",
        "Now, at test time we got a query point $x_q$ which ended up at same leaf now.\n",
        "\n",
        "**What class do we classify the query point ?** Positive class\n",
        "\n",
        "\n",
        "\n",
        "\n",
        "\n",
        "\n",
        "\n",
        "\n"
      ]
    },
    {
      "cell_type": "markdown",
      "metadata": {
        "id": "XwdGzlb5_eRs"
      },
      "source": [
        "<img src='https://drive.google.com/uc?id=1BhkvlILlmWzuwWQoxIff4y7TT954Rh3v'>\n"
      ]
    },
    {
      "cell_type": "markdown",
      "metadata": {
        "id": "VUlhwN_7_odY"
      },
      "source": [
        "\n",
        "## **What if the depth is 0? (Extreme case)**\n",
        "\n",
        "Depth = 0 means\n",
        "- we only have single node\n",
        "\n",
        "Suppose the datapoint distribution is\n",
        "- 55% +ve class\n",
        "- 45% -ve class\n",
        "\n",
        "For every query point $x_q$, we will say it is positive clss\n",
        "\n",
        "This results in **Underfitting**"
      ]
    },
    {
      "cell_type": "markdown",
      "metadata": {
        "id": "foMRqbbl50fY"
      },
      "source": [
        "\n",
        "\n",
        "<img src='https://drive.google.com/uc?id=1cB0ksNzTt8rXQFQoL4kfPnUXNOWWWdMi'>"
      ]
    },
    {
      "cell_type": "markdown",
      "metadata": {
        "id": "4G8cXuyHkCbd"
      },
      "source": [
        "## **Decision Stump**"
      ]
    },
    {
      "cell_type": "markdown",
      "metadata": {
        "id": "EiaGZzuHu1Fh"
      },
      "source": [
        "There are few other terminology related to decision tree\n",
        "\n",
        "* A **Decision Stump** is a Decision Tree with depth 1.\n",
        "\n",
        "- **Shallow tree** : A tree with small depth\n",
        "- **Deep tree**: Tree where depth is large\n"
      ]
    },
    {
      "cell_type": "markdown",
      "metadata": {
        "id": "eSh0pNLDvXf6"
      },
      "source": [
        "\n",
        "<img src='https://drive.google.com/uc?id=1ZAlYbClUnSZIm4p-B-tgT5BPUwzWwo0d'>"
      ]
    },
    {
      "cell_type": "markdown",
      "metadata": {
        "id": "gA9XSoUxkOsm"
      },
      "source": [
        "# **Geometrical Interpretation**\n",
        "\n"
      ]
    },
    {
      "cell_type": "markdown",
      "metadata": {
        "id": "wstbU8rxPVdq"
      },
      "source": [
        "### **Low Depth**"
      ]
    },
    {
      "cell_type": "markdown",
      "metadata": {
        "id": "OBvLZRRBv4y3"
      },
      "source": [
        "Lets assume we have 2 features $f_1,f_2$\n",
        "* Geometrically every split is a axis parallel hyper-plane which divides your data space\n",
        "\n",
        "* In case of a **shallow tree**, the depth is less \n",
        "    - which means the splits are less \n",
        "    - which there by infer that the **number of hyper-planes deviding the data space are less** i.e less chances of overfitting "
      ]
    },
    {
      "cell_type": "markdown",
      "metadata": {
        "id": "8Viyn6RIxPIW"
      },
      "source": [
        "\n",
        "<img src='https://drive.google.com/uc?id=12_9IScV4HNiq4WdO8Ungdxfded4jvMOM'>"
      ]
    },
    {
      "cell_type": "markdown",
      "metadata": {
        "id": "khyQb4JwxXlf"
      },
      "source": [
        "### **High depth**\n",
        "\n",
        "#### What happes when the depth is high?"
      ]
    },
    {
      "cell_type": "markdown",
      "metadata": {
        "id": "2Q9y2gAGxewW"
      },
      "source": [
        "When the depth is high, we are breaking the  data space into many small divisions.\n",
        "* These small spaces may have very few data points\n",
        "- those might also be outliers or noise.\n",
        "* Hence the higher chances of overfitting."
      ]
    },
    {
      "cell_type": "markdown",
      "metadata": {
        "id": "CoNk0cX4yAoT"
      },
      "source": [
        "\n",
        "<img src='https://drive.google.com/uc?id=1u6QT5zyH5KilyYom5Opp8UwCzDe59aEd'>"
      ]
    },
    {
      "cell_type": "markdown",
      "metadata": {
        "id": "SM5p2GUZFPRB"
      },
      "source": [
        "# **Tradeoff** "
      ]
    },
    {
      "cell_type": "markdown",
      "metadata": {
        "id": "kxOZUOeLbjO1"
      },
      "source": [
        "So, here **depth is the control**\n",
        "\n",
        "Now, to control depth, there are multiple ways\n",
        "- Split only if atleast $m$ data points are there.\n",
        "    - For example: split only if there are atleast 20 datapoints in node.\n",
        "- Split only if IG is greater than some threshold value $x$\n",
        "\n",
        "Ideally, we want the leaf nodes to have pure node.\n",
        "- But if we increase the depth in order to achieve depth\n",
        "    - it'll end up overfitting to noise or outliers\n",
        "\n",
        "\n",
        "\n"
      ]
    },
    {
      "cell_type": "markdown",
      "metadata": {
        "id": "rnGf-sLhBVbt"
      },
      "source": [
        "\n",
        "\n",
        "<img src='https://drive.google.com/uc?id=1JM4eEyDozaewgQ_JUN-ueUxK5pkEMjzS'>\n"
      ]
    },
    {
      "cell_type": "markdown",
      "metadata": {
        "id": "JxBh7G6KDs-z"
      },
      "source": [
        "The idea here is\n",
        "- we treat **depth** as **hyperparameter**\n",
        "\n",
        "\n",
        "We try multiple values of depth.\n",
        "- We train model using various depth values\n",
        "- Check the cv error \n",
        "- pick the depth which gives us the lowest cv error\n"
      ]
    },
    {
      "cell_type": "markdown",
      "metadata": {
        "id": "jJ5hOZ6S4l5D"
      },
      "source": [
        "\n",
        "\n",
        "<img src='https://drive.google.com/uc?id=15_fyrfmYjUOkYSu99xv_kwkNuz7e2v7C'>\n"
      ]
    },
    {
      "cell_type": "markdown",
      "metadata": {
        "id": "fVxXhWJhSIxF"
      },
      "source": [
        "### Visualizing Decision Tree"
      ]
    },
    {
      "cell_type": "code",
      "execution_count": null,
      "metadata": {
        "id": "7UgR2c9ASLSW"
      },
      "outputs": [],
      "source": [
        "from IPython.display import Image\n",
        "from six import StringIO\n",
        "from sklearn.tree import export_graphviz\n",
        "import pydot\n",
        "\n",
        "features = list(X_sm.columns)\n",
        "#Ensure the target variable 'Attrition' is not there in the feature list"
      ]
    },
    {
      "cell_type": "code",
      "source": [
        "tree_clf = tree_clf.fit(X_sm, y_sm)\n",
        "\n",
        "plt.figure(figsize=(12,12))\n",
        "plot_tree(tree_clf, filled=True);"
      ],
      "metadata": {
        "colab": {
          "base_uri": "https://localhost:8080/",
          "height": 683
        },
        "id": "Ufwq_Z1Wl7On",
        "outputId": "a313c623-8e7c-466c-8d79-187fbd016fd8"
      },
      "execution_count": null,
      "outputs": [
        {
          "output_type": "display_data",
          "data": {
            "text/plain": [
              "<Figure size 864x864 with 1 Axes>"
            ],
            "image/png": "[encoded data removed]"
          },
          "metadata": {
            "needs_background": "light"
          }
        }
      ]
    },
    {
      "cell_type": "markdown",
      "metadata": {
        "id": "yOkOGg_gSXmU"
      },
      "source": [
        "Notice the depth of the model. \n",
        "\n",
        "#### What can we infer from this visualisation ?\n",
        "If you zoom into the above image and look into all the leaf nodes, you will see that all are homogeneously split.\n",
        "\n",
        "This shows that the model has learnt all the noise as well and hence overfitting\n",
        "\n"
      ]
    },
    {
      "cell_type": "markdown",
      "metadata": {
        "id": "kYs_JTaRDsE-"
      },
      "source": [
        "# **Hyperparameters**"
      ]
    },
    {
      "cell_type": "markdown",
      "metadata": {
        "id": "WDwMOSDwFeA4"
      },
      "source": [
        "Let's look at various hyperparmeter that we can use from sklearn library"
      ]
    },
    {
      "cell_type": "markdown",
      "metadata": {
        "id": "rvSk_QmnGJiz"
      },
      "source": [
        "\n",
        "\n",
        "<img src='https://drive.google.com/uc?id=1z8KTHw3qq0wonrM-zxnSD_Tunh477zLv'>\n",
        "\n"
      ]
    },
    {
      "cell_type": "markdown",
      "metadata": {
        "id": "HXEbToB4eUYR"
      },
      "source": [
        "* **Criterion = gini**, states that make splits basing on gini impurity\n",
        "* **Splitter = best**, states that \n",
        "    - make the split basing on the best computed value insteaD of random values\n",
        "    - these random values are used in Extremely Randomised Trees (will learn later).\n",
        "\n",
        "\n",
        "* **max_depth** used set maximium depth upto which a tree will grow\n",
        "    - By default, it is **None** meaning it'll grow until all leaves are pure.\n",
        "\n",
        "* **min_samples_split** is used to set the minimum number of data points required to split further.\n",
        "    - helps us to control depth which therefore prevents **overfit**.\n",
        "    - By default, it is 2\n",
        "\n",
        "* **min_samples_leaf** helps us to set the minimum number of samples which a leaf node can have \n",
        "\n",
        "\n",
        "\n",
        "\n",
        "\n"
      ]
    },
    {
      "cell_type": "markdown",
      "metadata": {
        "id": "aScvhgoLjAhl"
      },
      "source": [
        "* **max_leaf_nodes** helps us to set the maximum number of leaf nodes that a tree can have. \n",
        "    - If we keep a limit on number of leaf nodes\n",
        "        - means we are indirectly controlling the depth"
      ]
    },
    {
      "cell_type": "markdown",
      "metadata": {
        "id": "epKABjgTjHtN"
      },
      "source": [
        "\n",
        "* **max_features** is used to set the features to be considered while deciding the best split.\n",
        "    - By default, it considers all the features for split\n",
        "    - In case we have too many features\n",
        "        - and we want to make it computationally efficient,\n",
        "        - we can try **max_features =sqrt/log2**\n",
        "        - it'll try out random subset of features\n",
        "\n",
        "<img src='https://drive.google.com/uc?id=1mddwaljVp4_V7fKzYDCpPEo7IRaL3Ju8'>\n"
      ]
    },
    {
      "cell_type": "markdown",
      "metadata": {
        "id": "4KmIjHLJTRsD"
      },
      "source": [
        "### Code for DT - Hyperparameter tuning"
      ]
    },
    {
      "cell_type": "code",
      "execution_count": null,
      "metadata": {
        "colab": {
          "base_uri": "https://localhost:8080/"
        },
        "id": "u64_GrZjTWgK",
        "outputId": "f2090104-c9d5-49fb-e554-2aced00892da"
      },
      "outputs": [
        {
          "output_type": "stream",
          "name": "stdout",
          "text": [
            "K-Fold for depth:3 Accuracy Mean: Train: 78.07846974883203 Validation: 71.38249118683902\n",
            "K-Fold for depth: 3 Accuracy Std: Train: 0.4642241748449559 Validation: 7.256654003605825\n",
            "***************\n",
            "K-Fold for depth:4 Accuracy Mean: Train: 81.92646297816736 Validation: 76.79318448883666\n",
            "K-Fold for depth: 4 Accuracy Std: Train: 1.0045119361734336 Validation: 6.00125792126415\n",
            "***************\n",
            "K-Fold for depth:5 Accuracy Mean: Train: 85.52800777094221 Validation: 78.6301410105758\n",
            "K-Fold for depth: 5 Accuracy Std: Train: 1.036654883302406 Validation: 4.553803112914131\n",
            "***************\n",
            "K-Fold for depth:67 Accuracy Mean: Train: 100.0 Validation: 82.8586956521739\n",
            "K-Fold for depth: 67 Accuracy Std: Train: 0.0 Validation: 9.466893026447542\n",
            "***************\n",
            "K-Fold for depth:9 Accuracy Mean: Train: 97.48074248924556 Validation: 84.42538190364279\n",
            "K-Fold for depth: 9 Accuracy Std: Train: 0.6194207855061746 Validation: 7.902336655110872\n",
            "***************\n",
            "K-Fold for depth:11 Accuracy Mean: Train: 99.26040534367915 Validation: 83.77732079905994\n",
            "K-Fold for depth: 11 Accuracy Std: Train: 0.5692542633650874 Validation: 8.705318431667438\n",
            "***************\n",
            "K-Fold for depth:13 Accuracy Mean: Train: 99.7895405950784 Validation: 83.61545240893066\n",
            "K-Fold for depth: 13 Accuracy Std: Train: 0.25829111846679725 Validation: 8.910945971225587\n",
            "***************\n",
            "K-Fold for depth:15 Accuracy Mean: Train: 99.96993385447986 Validation: 83.4532902467685\n",
            "K-Fold for depth: 15 Accuracy Std: Train: 0.05543923305648306 Validation: 9.01887674270088\n",
            "***************\n"
          ]
        }
      ],
      "source": [
        "depths = [3,4,5,67,9,11,13,15]\n",
        "\n",
        "for depth in depths:\n",
        "    tree_clf = DecisionTreeClassifier(random_state=7, max_depth = depth)\n",
        "\n",
        "    cv_acc_results = cross_validate(tree_clf, X_sm, y_sm, cv = kfold, scoring = 'accuracy', return_train_score = True)\n",
        "\n",
        "    print(f\"K-Fold for depth:{depth} Accuracy Mean: Train: {cv_acc_results['train_score'].mean()*100} Validation: {cv_acc_results['test_score'].mean()*100}\")\n",
        "    print(f\"K-Fold for depth: {depth} Accuracy Std: Train: {cv_acc_results['train_score'].std()*100} Validation: {cv_acc_results['test_score'].std()*100}\")\n",
        "    print('***************')"
      ]
    },
    {
      "cell_type": "markdown",
      "metadata": {
        "id": "LxNHmee7WmbM"
      },
      "source": [
        "#### Training with best params"
      ]
    },
    {
      "cell_type": "code",
      "execution_count": null,
      "metadata": {
        "id": "cxhFzQOVWks_"
      },
      "outputs": [],
      "source": [
        "tree_clf = DecisionTreeClassifier(random_state=7, max_depth = 4)\n",
        "tree_clf=tree_clf.fit(X_sm, y_sm)\n",
        "pred = tree_clf.predict(X_test)"
      ]
    },
    {
      "cell_type": "markdown",
      "metadata": {
        "id": "LXU_utleWvMU"
      },
      "source": [
        "#### Visualizing DT"
      ]
    },
    {
      "cell_type": "code",
      "source": [
        "plt.figure(figsize=(12,12))\n",
        "plot_tree(tree_clf, filled=True);"
      ],
      "metadata": {
        "colab": {
          "base_uri": "https://localhost:8080/",
          "height": 683
        },
        "id": "rl2gJFRHmNiO",
        "outputId": "bd8c0609-34d9-4cb4-ab3b-8529a826a47a"
      },
      "execution_count": null,
      "outputs": [
        {
          "output_type": "display_data",
          "data": {
            "text/plain": [
              "<Figure size 864x864 with 1 Axes>"
            ],
            "image/png": "[encoded data removed]"
          },
          "metadata": {
            "needs_background": "light"
          }
        }
      ]
    },
    {
      "cell_type": "markdown",
      "metadata": {
        "id": "dIvqS39cWyUN"
      },
      "source": [
        "Notice how the tree is pruned now i.e. depth has reduced"
      ]
    },
    {
      "cell_type": "markdown",
      "metadata": {
        "id": "4SKgMF5hW3-_"
      },
      "source": [
        "What can we infer from this visualisation ?\n",
        "- The tree is now much shorter in depth\n",
        "- The leaf nodes are more generalised as well\n",
        "- This is what the hyperparameter tuning helped achieve"
      ]
    },
    {
      "cell_type": "markdown",
      "metadata": {
        "id": "Y2IZNzbUYFvd"
      },
      "source": [
        "#### **Confusion Matrix**"
      ]
    },
    {
      "cell_type": "markdown",
      "metadata": {
        "id": "dgzlNggGXA6q"
      },
      "source": [
        "Let's also plot the confusion matrix for test data\n",
        "\n",
        "Recall the TP,TN,FN,FP we discussed in performance metric lecture\n",
        "\n"
      ]
    },
    {
      "cell_type": "code",
      "execution_count": null,
      "metadata": {
        "colab": {
          "base_uri": "https://localhost:8080/",
          "height": 345
        },
        "id": "N-yz6bWXXKjv",
        "outputId": "57bd1da8-a244-400d-8acd-95add9dbad86"
      },
      "outputs": [
        {
          "output_type": "execute_result",
          "data": {
            "text/plain": [
              "Text(0.5, 15.0, 'Predicted label')"
            ]
          },
          "metadata": {},
          "execution_count": 35
        },
        {
          "output_type": "display_data",
          "data": {
            "text/plain": [
              "<Figure size 432x288 with 2 Axes>"
            ],
            "image/png": "[encoded data removed]"
          },
          "metadata": {
            "needs_background": "light"
          }
        }
      ],
      "source": [
        "## Confusion Matrix\n",
        "\n",
        "from sklearn.metrics import confusion_matrix\n",
        "import seaborn as sns\n",
        "\n",
        "cnf_matrix = confusion_matrix(y_test, tree_clf.predict(X_test))\n",
        "# class_names=[0,1] # name  of classes\n",
        "fig, ax = plt.subplots()\n",
        "# tick_marks = np.arange(len(class_names))\n",
        "# plt.xticks(tick_marks, class_names)\n",
        "# plt.yticks(tick_marks, class_names)\n",
        "# create heatmap\n",
        "sns.heatmap(pd.DataFrame(cnf_matrix), annot=True, cmap=\"YlGnBu\" ,fmt='g')\n",
        "# ax.xaxis.set_label_position(\"top\")\n",
        "plt.tight_layout()\n",
        "plt.title('Confusion matrix')\n",
        "plt.ylabel('Actual label')\n",
        "plt.xlabel('Predicted label')"
      ]
    },
    {
      "cell_type": "markdown",
      "metadata": {
        "id": "6hfFzNK7YRpD"
      },
      "source": [
        "Notice that \n",
        "- model is classifying class 0 quite well\n",
        "- However, the number of FN is large."
      ]
    },
    {
      "cell_type": "markdown",
      "metadata": {
        "id": "G67KwdaQacX-"
      },
      "source": [
        "# **Impact of outliers**\n"
      ]
    },
    {
      "cell_type": "markdown",
      "metadata": {
        "id": "J8S9i1XKaU_I"
      },
      "source": [
        "#### Question: Will outliers impact the DT ?\n",
        "\n",
        "Outliers impact a decision tree when the depth is high i.e. overfitted model \n",
        "\n",
        "Imagine a scenario where\n",
        "- we have 1000 datapoints at root node\n",
        "- we built a tree\n",
        "- After splitting agressively i.e. depth is high we got\n",
        "    - 5 +ve point in one leaf nodes\n",
        "\n",
        "There may be chance these 5 points are noise / outliers. \n",
        "\n",
        "Hence, outliers will only impact tree with large depth"
      ]
    },
    {
      "cell_type": "markdown",
      "metadata": {
        "id": "ODFrBFgGwLKn"
      },
      "source": [
        "<img src='https://drive.google.com/uc?id=1nlGGvUplV-nqDCnB13U2GVx3FN9fSTZ4'>\n"
      ]
    },
    {
      "cell_type": "markdown",
      "metadata": {
        "id": "0HiwzqbvvfRc"
      },
      "source": [
        "## **Standardization**"
      ]
    },
    {
      "cell_type": "markdown",
      "metadata": {
        "id": "q9P2RQjdwORP"
      },
      "source": [
        "#### (Revision question) Did we standardize data for Linear Regression & PCA?\n",
        "\n",
        "Yes."
      ]
    },
    {
      "cell_type": "markdown",
      "metadata": {
        "id": "KcyPVYbaWMNj"
      },
      "source": [
        "#### Question: Is Standardisation  required for Decision tree?\n",
        "\n",
        "Imagine we have a numerical feature $f_i$\n",
        "- values are say, 2.1, 2.6, 2.8 and so on ..\n",
        "\n",
        "Let's say we standardized it\n",
        "- values we go -1.2, -1, 0 , .. and so on\n",
        "\n",
        "For calculating entropy, we are using the values as threshold only as splitting criteria.\n",
        "\n",
        "Entropy isn't dependent on value\n",
        "- it depends on number of +ve/ -ve datapoints\n",
        "- and in turn dependend on thresold\n",
        "\n",
        "Threshold order won't change with standardization.\n",
        "\n",
        "Standardization does not impact entropy and Information gain\n",
        "\n",
        "<br>\n",
        "\n",
        "**Key lesson**:\n",
        "\n",
        "Though standardisation is required in optimisation based problems like Linear Regression, Logistic Regression, PCA, \n",
        "- as standardisation **doesn't effect the entropy or the Information Gain** of the data it doesn't add any value in Decision tree.\n",
        "\n"
      ]
    },
    {
      "cell_type": "markdown",
      "metadata": {
        "id": "3aqO0LIAXPdJ"
      },
      "source": [
        "\n",
        "<img src='https://drive.google.com/uc?id=1TKSiPMLUt14FHs1AjAqySZQycgyhwWs0'>"
      ]
    },
    {
      "cell_type": "markdown",
      "metadata": {
        "id": "csgXgiT-yq_q"
      },
      "source": [
        "# **Encoding of categorial features for DT**"
      ]
    },
    {
      "cell_type": "markdown",
      "metadata": {
        "id": "qbVwTXbJXZBp"
      },
      "source": [
        "Imagine we have a categorical feature with many categories  (for example: zipcode with 10,000 values)\n",
        "\n",
        "\n",
        "#### Question: How can we encode  a categorical feature with many categories ?  \n",
        "\n",
        "* We can do **\"no encoding\"**\n",
        " * if we did not do encoding\n",
        "    - we'll get 10,000 child nodes\n",
        "    - data set becomes too small in some nodes\n",
        "    - prediction may suffer as we don't have enough datapoints (can be outliers or noise) in node to affirmly back our prediction\n",
        "    - not a wise choice\n",
        "\n",
        "* We can do **target encoding** \n",
        " * covert to numerical and then give it to decision tree\n",
        "\n",
        "* We **should not do one hot encoding**\n",
        "  * Because that increases the dimensionality of the data \n",
        "\n",
        "**Key lesson:**\n",
        "* Appropriate feature encoding depends on the model that you are using like if you are using logistic regression you can use one hat encoding but not in decision tree.\n"
      ]
    },
    {
      "cell_type": "markdown",
      "metadata": {
        "id": "tAQzP0YoDDAK"
      },
      "source": [
        "\n",
        "\n",
        "<img src='https://drive.google.com/uc?id=1gtSEg36jCNkhdaAYOPuctlWEqJEH7l2j'>"
      ]
    },
    {
      "cell_type": "markdown",
      "metadata": {
        "id": "JFFx6XiB2PHi"
      },
      "source": [
        "# **DT for high dimension data**"
      ]
    },
    {
      "cell_type": "markdown",
      "metadata": {
        "id": "0sWPccRGwv73"
      },
      "source": [
        "### Question: Why should we avoid DT for high dimensional data? "
      ]
    },
    {
      "cell_type": "markdown",
      "metadata": {
        "id": "AHPhbIMs2dQc"
      },
      "source": [
        "\n",
        "If there are lots of features it takes a lot of time to check every possible split and compute entropy\n",
        "\n",
        "Hence, time to build DT shoots up \n",
        "\n",
        "**So, what can be done about that.?**\n",
        "* We can use distributed computing or multi-processing\n",
        " * **Distributed Computing** is a process in which the data is split and worked on different cores.\n",
        "* We avoid using Decision trees as when the dimensionality is high a simple linear seperator can be used, by using logistic regression\n",
        "* Either use Random forest or GBDT\n"
      ]
    },
    {
      "cell_type": "markdown",
      "metadata": {
        "id": "TB9UDani2euw"
      },
      "source": [
        "\n",
        "\n",
        "<img src='https://drive.google.com/uc?id=1UcqJB8hfzbXaxnU4zwIygyshwoY1T46R'>\n"
      ]
    },
    {
      "cell_type": "markdown",
      "metadata": {
        "id": "lXvhuF3Z2u4M"
      },
      "source": [
        "# **Imbalance data in DT**"
      ]
    },
    {
      "cell_type": "markdown",
      "metadata": {
        "id": "nMny_aMv7AkT"
      },
      "source": [
        "#### Question: Will imbalance data impact DT? \n",
        "\n"
      ]
    },
    {
      "cell_type": "markdown",
      "metadata": {
        "id": "ODkNXTitN74U"
      },
      "source": [
        "Recall that Entropy and Gini Impurity are fucntions of probability\n",
        "\n",
        "* Assume  a condition where there is an imbalance in the root node \n",
        "  * **having 99% positive data**\n",
        "  * **This skews the entropy or Gini Impurity**\n",
        "\n",
        "So, we have to rebalance the data. (which is what we did in the beginning)\n",
        "\n",
        "* We can rebalance in many ways like \n",
        " * using class weights\n",
        " * up - samplinig\n",
        " * SMOTE can be used.  "
      ]
    },
    {
      "cell_type": "markdown",
      "metadata": {
        "id": "Zp0Z2b7BbGzO"
      },
      "source": [
        "\n",
        "\n",
        "<img src='https://drive.google.com/uc?id=1HKUqza2v3zHmYP3-zYRKWD_Mi5MUs8PX'>"
      ]
    }
  ]
}